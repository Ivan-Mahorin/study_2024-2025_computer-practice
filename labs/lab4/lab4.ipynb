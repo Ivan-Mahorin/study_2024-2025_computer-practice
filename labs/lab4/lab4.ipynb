{
 "cells": [
  {
   "cell_type": "markdown",
   "id": "91e6268e-c692-48ed-9a99-d6746f2c5dc9",
   "metadata": {},
   "source": [
    "### Подготовил: Махорин И.С.\n",
    "### Студ. билет: 1032211221"
   ]
  },
  {
   "cell_type": "markdown",
   "id": "3432bd25-3e05-436d-86ad-24e800c61d3f",
   "metadata": {},
   "source": [
    "### 1. Поэлементные операции над многомерными массивами"
   ]
  },
  {
   "cell_type": "markdown",
   "id": "defd47c5-2c40-49d6-80cc-5d8416bd17fa",
   "metadata": {},
   "source": [
    "#### Для матрицы 4 × 3 рассмотрим поэлементные операции сложения и произведения её элементов:"
   ]
  },
  {
   "cell_type": "code",
   "execution_count": 1,
   "id": "7e3a0b4e-f643-424b-9fc6-adb4e405e4a5",
   "metadata": {},
   "outputs": [
    {
     "data": {
      "text/plain": [
       "4×3 Matrix{Int64}:\n",
       " 17   6  18\n",
       " 18  16  14\n",
       "  5  19  18\n",
       "  6   1   5"
      ]
     },
     "execution_count": 1,
     "metadata": {},
     "output_type": "execute_result"
    }
   ],
   "source": [
    "# Массив 4x3 со случайными целыми числами (от 1 до 20):\n",
    "a = rand(1:20,(4,3))"
   ]
  },
  {
   "cell_type": "code",
   "execution_count": 2,
   "id": "4416a692-98ba-4f37-ba4f-e11411e1732f",
   "metadata": {},
   "outputs": [
    {
     "data": {
      "text/plain": [
       "143"
      ]
     },
     "execution_count": 2,
     "metadata": {},
     "output_type": "execute_result"
    }
   ],
   "source": [
    "# Поэлементная сумма:\n",
    "sum(a)"
   ]
  },
  {
   "cell_type": "code",
   "execution_count": 3,
   "id": "9e0208d3-4064-4c42-ab91-d55470248944",
   "metadata": {},
   "outputs": [
    {
     "data": {
      "text/plain": [
       "1×3 Matrix{Int64}:\n",
       " 46  42  55"
      ]
     },
     "execution_count": 3,
     "metadata": {},
     "output_type": "execute_result"
    }
   ],
   "source": [
    "# Поэлементная сумма по столбцам:\n",
    "sum(a,dims=1)"
   ]
  },
  {
   "cell_type": "code",
   "execution_count": 4,
   "id": "b34f029d-0dc7-4c59-bc71-339d775450fa",
   "metadata": {},
   "outputs": [
    {
     "data": {
      "text/plain": [
       "4×1 Matrix{Int64}:\n",
       " 41\n",
       " 48\n",
       " 42\n",
       " 12"
      ]
     },
     "execution_count": 4,
     "metadata": {},
     "output_type": "execute_result"
    }
   ],
   "source": [
    "# Поэлементная сумма по строкам:\n",
    "sum(a,dims=2)"
   ]
  },
  {
   "cell_type": "code",
   "execution_count": 6,
   "id": "dabf93ff-7753-473d-879c-927cdb623d07",
   "metadata": {},
   "outputs": [
    {
     "data": {
      "text/plain": [
       "379761177600"
      ]
     },
     "execution_count": 6,
     "metadata": {},
     "output_type": "execute_result"
    }
   ],
   "source": [
    "# Поэлементное произведение:\n",
    "prod(a)"
   ]
  },
  {
   "cell_type": "code",
   "execution_count": 7,
   "id": "e7fd7526-a8da-417d-9460-98d8e80205ed",
   "metadata": {},
   "outputs": [
    {
     "data": {
      "text/plain": [
       "1×3 Matrix{Int64}:\n",
       " 9180  1824  22680"
      ]
     },
     "execution_count": 7,
     "metadata": {},
     "output_type": "execute_result"
    }
   ],
   "source": [
    "# Поэлементное произведение по столбцам:\n",
    "prod(a,dims=1)"
   ]
  },
  {
   "cell_type": "code",
   "execution_count": 8,
   "id": "7e3fd9e4-5898-4405-afd3-2803ac33d0a5",
   "metadata": {},
   "outputs": [
    {
     "data": {
      "text/plain": [
       "4×1 Matrix{Int64}:\n",
       " 1836\n",
       " 4032\n",
       " 1710\n",
       "   30"
      ]
     },
     "execution_count": 8,
     "metadata": {},
     "output_type": "execute_result"
    }
   ],
   "source": [
    "# Поэлементное произведение по строкам:\n",
    "prod(a,dims=2)"
   ]
  },
  {
   "cell_type": "markdown",
   "id": "31da635b-28a6-45ec-8c90-44fc3cd35962",
   "metadata": {},
   "source": [
    "#### Для работы со средними значениями можно воспользоваться возможностями пакета Statistics:"
   ]
  },
  {
   "cell_type": "code",
   "execution_count": 10,
   "id": "2e56de53-df71-4101-937b-159cc31a51d8",
   "metadata": {},
   "outputs": [
    {
     "data": {
      "text/plain": [
       "11.916666666666666"
      ]
     },
     "execution_count": 10,
     "metadata": {},
     "output_type": "execute_result"
    }
   ],
   "source": [
    "# Подключение пакета Statistics:\n",
    "using Statistics\n",
    "\n",
    "# Вычисление среднего значения массива:\n",
    "mean(a)"
   ]
  },
  {
   "cell_type": "code",
   "execution_count": 11,
   "id": "3ea47371-6450-4fe4-b164-c90e3c8e5676",
   "metadata": {},
   "outputs": [
    {
     "data": {
      "text/plain": [
       "1×3 Matrix{Float64}:\n",
       " 11.5  10.5  13.75"
      ]
     },
     "execution_count": 11,
     "metadata": {},
     "output_type": "execute_result"
    }
   ],
   "source": [
    "# Среднее по столбцам:\n",
    "mean(a,dims=1)"
   ]
  },
  {
   "cell_type": "code",
   "execution_count": 12,
   "id": "7ba5c873-c77a-4e64-920f-29ddbb96c068",
   "metadata": {},
   "outputs": [
    {
     "data": {
      "text/plain": [
       "4×1 Matrix{Float64}:\n",
       " 13.666666666666666\n",
       " 16.0\n",
       " 14.0\n",
       "  4.0"
      ]
     },
     "execution_count": 12,
     "metadata": {},
     "output_type": "execute_result"
    }
   ],
   "source": [
    "# Среднее по строкам:\n",
    "mean(a,dims=2)"
   ]
  },
  {
   "cell_type": "markdown",
   "id": "9385cb4a-5b1d-4c89-a0ea-4c8196c2b6f7",
   "metadata": {},
   "source": [
    "### 2. Транспонирование, след, ранг, определитель и инверсия матрицы"
   ]
  },
  {
   "cell_type": "code",
   "execution_count": 14,
   "id": "0051c42a-b25d-4e35-8897-3aef472b8f8a",
   "metadata": {},
   "outputs": [
    {
     "data": {
      "text/plain": [
       "4×4 Matrix{Int64}:\n",
       "  2  20  16   4\n",
       "  4  11  10   3\n",
       " 10   3  14   6\n",
       " 19   8   5  14"
      ]
     },
     "execution_count": 14,
     "metadata": {},
     "output_type": "execute_result"
    }
   ],
   "source": [
    "# Подключение пакета LinearAlgebra:\n",
    "using LinearAlgebra\n",
    "\n",
    "# Массив 4x4 со случайными целыми числами (от 1 до 20):\n",
    "b = rand(1:20,(4,4))"
   ]
  },
  {
   "cell_type": "code",
   "execution_count": 15,
   "id": "d4013639-9750-4fb0-812e-87bec47442f5",
   "metadata": {},
   "outputs": [
    {
     "data": {
      "text/plain": [
       "4×4 transpose(::Matrix{Int64}) with eltype Int64:\n",
       "  2   4  10  19\n",
       " 20  11   3   8\n",
       " 16  10  14   5\n",
       "  4   3   6  14"
      ]
     },
     "execution_count": 15,
     "metadata": {},
     "output_type": "execute_result"
    }
   ],
   "source": [
    "# Транспонирование:\n",
    "transpose(b)"
   ]
  },
  {
   "cell_type": "code",
   "execution_count": 16,
   "id": "77f21182-8760-4bea-9ddc-65b2b637e6b1",
   "metadata": {},
   "outputs": [
    {
     "data": {
      "text/plain": [
       "41"
      ]
     },
     "execution_count": 16,
     "metadata": {},
     "output_type": "execute_result"
    }
   ],
   "source": [
    "# След матрицы (сумма диагональных элементов):\n",
    "tr(b)"
   ]
  },
  {
   "cell_type": "code",
   "execution_count": 17,
   "id": "2726a920-a80c-426b-9cdc-bae321f1ac35",
   "metadata": {},
   "outputs": [
    {
     "data": {
      "text/plain": [
       "4-element Vector{Int64}:\n",
       "  2\n",
       " 11\n",
       " 14\n",
       " 14"
      ]
     },
     "execution_count": 17,
     "metadata": {},
     "output_type": "execute_result"
    }
   ],
   "source": [
    "# Извлечение диагональных элементов как массив:\n",
    "diag(b)"
   ]
  },
  {
   "cell_type": "code",
   "execution_count": 18,
   "id": "71dfdd12-6c1b-4bb8-80e8-d6fe815a9cf8",
   "metadata": {},
   "outputs": [
    {
     "data": {
      "text/plain": [
       "4"
      ]
     },
     "execution_count": 18,
     "metadata": {},
     "output_type": "execute_result"
    }
   ],
   "source": [
    "# Ранг матрицы:\n",
    "rank(b)"
   ]
  },
  {
   "cell_type": "code",
   "execution_count": 19,
   "id": "31a91421-f7ee-43c0-96c0-33128bbb1f1c",
   "metadata": {},
   "outputs": [
    {
     "data": {
      "text/plain": [
       "4×4 Matrix{Float64}:\n",
       " -0.342422    0.650064   -0.068699   -0.0120223\n",
       " -0.052383    0.203521   -0.0888793   0.00944611\n",
       "  0.0517389  -0.0944611   0.0918849  -0.0339201\n",
       "  0.47617    -0.964792    0.111207    0.0944611"
      ]
     },
     "execution_count": 19,
     "metadata": {},
     "output_type": "execute_result"
    }
   ],
   "source": [
    "# Инверсия матрицы (определение обратной матрицы):\n",
    "inv(b)"
   ]
  },
  {
   "cell_type": "code",
   "execution_count": 20,
   "id": "959e337f-3923-4a8e-b14b-04275d6b85df",
   "metadata": {},
   "outputs": [
    {
     "data": {
      "text/plain": [
       "-4657.999999999995"
      ]
     },
     "execution_count": 20,
     "metadata": {},
     "output_type": "execute_result"
    }
   ],
   "source": [
    "# Определитель матрицы:\n",
    "det(b)"
   ]
  },
  {
   "cell_type": "code",
   "execution_count": 21,
   "id": "a95d2fde-2bd0-4c57-abf6-a565b2a2f0c1",
   "metadata": {},
   "outputs": [
    {
     "data": {
      "text/plain": [
       "3×4 Matrix{Float64}:\n",
       "  0.00319438   0.0652316  -0.0564106   0.00893\n",
       " -0.0643184    0.0614736   0.0222671  -0.0207411\n",
       "  0.0684769   -0.0828166   0.0473269   0.0149927"
      ]
     },
     "execution_count": 21,
     "metadata": {},
     "output_type": "execute_result"
    }
   ],
   "source": [
    "# Псевдобратная функция для прямоугольных матриц:\n",
    "pinv(a)"
   ]
  },
  {
   "cell_type": "markdown",
   "id": "cdd0c14f-a5ad-4296-bc48-64e4b5fd4ee5",
   "metadata": {},
   "source": [
    "### 3. Вычисление нормы векторов и матриц, повороты, вращения"
   ]
  },
  {
   "cell_type": "code",
   "execution_count": 22,
   "id": "5fd47f8c-5f47-48f8-b438-a5cd6ccc1e3c",
   "metadata": {},
   "outputs": [
    {
     "data": {
      "text/plain": [
       "3-element Vector{Int64}:\n",
       "  2\n",
       "  4\n",
       " -5"
      ]
     },
     "execution_count": 22,
     "metadata": {},
     "output_type": "execute_result"
    }
   ],
   "source": [
    "# Создание вектора X:\n",
    "X = [2, 4, -5]"
   ]
  },
  {
   "cell_type": "code",
   "execution_count": 23,
   "id": "88235793-5f51-4894-9e30-9c248e6f2e01",
   "metadata": {},
   "outputs": [
    {
     "data": {
      "text/plain": [
       "6.708203932499369"
      ]
     },
     "execution_count": 23,
     "metadata": {},
     "output_type": "execute_result"
    }
   ],
   "source": [
    "# Вычисление евклидовой нормы:\n",
    "norm(X)"
   ]
  },
  {
   "cell_type": "code",
   "execution_count": 24,
   "id": "312adbf3-dd77-4f64-9e16-b99d49ed0c42",
   "metadata": {},
   "outputs": [
    {
     "data": {
      "text/plain": [
       "11.0"
      ]
     },
     "execution_count": 24,
     "metadata": {},
     "output_type": "execute_result"
    }
   ],
   "source": [
    "# Вычисление p-нормы:\n",
    "p = 1\n",
    "norm(X,p)"
   ]
  },
  {
   "cell_type": "code",
   "execution_count": 25,
   "id": "d782416f-2d80-4053-b161-1e6c58ad61f8",
   "metadata": {},
   "outputs": [
    {
     "data": {
      "text/plain": [
       "9.486832980505138"
      ]
     },
     "execution_count": 25,
     "metadata": {},
     "output_type": "execute_result"
    }
   ],
   "source": [
    "# Расстояние между двумя векторами X и Y:\n",
    "X = [2, 4, -5];\n",
    "Y = [1,-1,3];\n",
    "norm(X-Y)"
   ]
  },
  {
   "cell_type": "code",
   "execution_count": 26,
   "id": "b5296809-728f-4b0c-9380-9a61c208d40c",
   "metadata": {},
   "outputs": [
    {
     "data": {
      "text/plain": [
       "9.486832980505138"
      ]
     },
     "execution_count": 26,
     "metadata": {},
     "output_type": "execute_result"
    }
   ],
   "source": [
    "# Проверка по базовому определению:\n",
    "sqrt(sum((X-Y).^2))"
   ]
  },
  {
   "cell_type": "code",
   "execution_count": 27,
   "id": "24a6d776-8712-4d4e-989e-0bdf189632b1",
   "metadata": {},
   "outputs": [
    {
     "data": {
      "text/plain": [
       "2.4404307889469252"
      ]
     },
     "execution_count": 27,
     "metadata": {},
     "output_type": "execute_result"
    }
   ],
   "source": [
    "# Угол между двумя векторами:\n",
    "acos((transpose(X)*Y)/(norm(X)*norm(Y)))"
   ]
  },
  {
   "cell_type": "markdown",
   "id": "e1975104-85f9-48f4-b9f0-c65d628f4dcf",
   "metadata": {},
   "source": [
    "#### Вычисление нормы для двумерной матрицы:"
   ]
  },
  {
   "cell_type": "code",
   "execution_count": 28,
   "id": "da4eaa4f-adc1-4243-9907-76c7b1a82e00",
   "metadata": {},
   "outputs": [
    {
     "data": {
      "text/plain": [
       "3×3 Matrix{Int64}:\n",
       "  5  -4  2\n",
       " -1   2  3\n",
       " -2   1  0"
      ]
     },
     "execution_count": 28,
     "metadata": {},
     "output_type": "execute_result"
    }
   ],
   "source": [
    "# Создание матрицы:\n",
    "d = [5 -4 2 ; -1 2 3; -2 1 0]"
   ]
  },
  {
   "cell_type": "code",
   "execution_count": 29,
   "id": "b4718401-c9f3-49ad-899f-c72a54b498ec",
   "metadata": {},
   "outputs": [
    {
     "data": {
      "text/plain": [
       "7.147682841795258"
      ]
     },
     "execution_count": 29,
     "metadata": {},
     "output_type": "execute_result"
    }
   ],
   "source": [
    "# Вычисление Евклидовой нормы:\n",
    "opnorm(d)"
   ]
  },
  {
   "cell_type": "code",
   "execution_count": 30,
   "id": "d817d434-fe13-495e-8cb8-e87f23e7a352",
   "metadata": {},
   "outputs": [
    {
     "data": {
      "text/plain": [
       "8.0"
      ]
     },
     "execution_count": 30,
     "metadata": {},
     "output_type": "execute_result"
    }
   ],
   "source": [
    "# Вычисление p-нормы:\n",
    "p=1\n",
    "opnorm(d,p)"
   ]
  },
  {
   "cell_type": "code",
   "execution_count": 31,
   "id": "45b7eed6-0e8e-4bba-89a4-c9937d584461",
   "metadata": {},
   "outputs": [
    {
     "data": {
      "text/plain": [
       "3×3 Matrix{Int64}:\n",
       " 0   1  -2\n",
       " 3   2  -1\n",
       " 2  -4   5"
      ]
     },
     "execution_count": 31,
     "metadata": {},
     "output_type": "execute_result"
    }
   ],
   "source": [
    "# Поворот на 180 градусов:\n",
    "rot180(d)"
   ]
  },
  {
   "cell_type": "code",
   "execution_count": 32,
   "id": "efa1a0c0-1f91-4edb-8123-9317592eeac7",
   "metadata": {},
   "outputs": [
    {
     "data": {
      "text/plain": [
       "3×3 Matrix{Int64}:\n",
       " -2   1  0\n",
       " -1   2  3\n",
       "  5  -4  2"
      ]
     },
     "execution_count": 32,
     "metadata": {},
     "output_type": "execute_result"
    }
   ],
   "source": [
    "# Переворачивание строк:\n",
    "reverse(d,dims=1)"
   ]
  },
  {
   "cell_type": "code",
   "execution_count": 33,
   "id": "43efba11-edf3-4d46-b096-655085523a47",
   "metadata": {},
   "outputs": [
    {
     "data": {
      "text/plain": [
       "3×3 Matrix{Int64}:\n",
       " 2  -4   5\n",
       " 3   2  -1\n",
       " 0   1  -2"
      ]
     },
     "execution_count": 33,
     "metadata": {},
     "output_type": "execute_result"
    }
   ],
   "source": [
    "# Переворачивание столбцов\n",
    "reverse(d,dims=2)"
   ]
  },
  {
   "cell_type": "markdown",
   "id": "b9e31c67-780b-4008-8329-1d552132f150",
   "metadata": {},
   "source": [
    "###  4.  Матричное умножение, единичная матрица, скалярное произведение"
   ]
  },
  {
   "cell_type": "code",
   "execution_count": 34,
   "id": "09c41c3c-b04a-4485-8c70-9df12d3ec4bc",
   "metadata": {},
   "outputs": [
    {
     "data": {
      "text/plain": [
       "2×3 Matrix{Int64}:\n",
       " 2  1   1\n",
       " 8  7  10"
      ]
     },
     "execution_count": 34,
     "metadata": {},
     "output_type": "execute_result"
    }
   ],
   "source": [
    "# Матрица 2x3 со случайными целыми значениями от 1 до 10:\n",
    "A = rand(1:10,(2,3))"
   ]
  },
  {
   "cell_type": "code",
   "execution_count": 35,
   "id": "bd602c1b-f3ef-4d81-a534-67ef8c9a1baf",
   "metadata": {},
   "outputs": [
    {
     "data": {
      "text/plain": [
       "3×4 Matrix{Int64}:\n",
       " 3  4  10  8\n",
       " 2  6   3  9\n",
       " 1  1   2  2"
      ]
     },
     "execution_count": 35,
     "metadata": {},
     "output_type": "execute_result"
    }
   ],
   "source": [
    "# Матрица 3x4 со случайными целыми значениями от 1 до 10:\n",
    "B = rand(1:10,(3,4))"
   ]
  },
  {
   "cell_type": "code",
   "execution_count": 36,
   "id": "c79b2cd0-d01e-482b-ad33-942b0b5031f0",
   "metadata": {},
   "outputs": [
    {
     "data": {
      "text/plain": [
       "2×4 Matrix{Int64}:\n",
       "  9  15   25   27\n",
       " 48  84  121  147"
      ]
     },
     "execution_count": 36,
     "metadata": {},
     "output_type": "execute_result"
    }
   ],
   "source": [
    "# Произведение матриц A и B:\n",
    "A*B"
   ]
  },
  {
   "cell_type": "code",
   "execution_count": 37,
   "id": "924ce744-64f9-48a5-975d-746c4feca7a0",
   "metadata": {},
   "outputs": [
    {
     "data": {
      "text/plain": [
       "3×3 Matrix{Int64}:\n",
       " 1  0  0\n",
       " 0  1  0\n",
       " 0  0  1"
      ]
     },
     "execution_count": 37,
     "metadata": {},
     "output_type": "execute_result"
    }
   ],
   "source": [
    "# Единичная матрица 3x3:\n",
    "Matrix{Int}(I, 3, 3)"
   ]
  },
  {
   "cell_type": "code",
   "execution_count": 38,
   "id": "dcefbd3d-3184-44e1-8853-540e40927a60",
   "metadata": {},
   "outputs": [
    {
     "data": {
      "text/plain": [
       "-17"
      ]
     },
     "execution_count": 38,
     "metadata": {},
     "output_type": "execute_result"
    }
   ],
   "source": [
    "# Скалярное произведение векторов X и Y:\n",
    "X = [2, 4, -5]\n",
    "Y = [1,-1,3]\n",
    "dot(X,Y)"
   ]
  },
  {
   "cell_type": "code",
   "execution_count": 39,
   "id": "174d8e96-2552-44b7-9632-334b05a1be27",
   "metadata": {},
   "outputs": [
    {
     "data": {
      "text/plain": [
       "-17"
      ]
     },
     "execution_count": 39,
     "metadata": {},
     "output_type": "execute_result"
    }
   ],
   "source": [
    "# тоже скалярное произведение:\n",
    "X'Y"
   ]
  },
  {
   "cell_type": "markdown",
   "id": "4399d381-f764-4979-8e90-9f8d0f6235a3",
   "metadata": {},
   "source": [
    "### 5. Факторизация. Специальные матричные структуры"
   ]
  },
  {
   "cell_type": "code",
   "execution_count": 40,
   "id": "7f0a621e-342d-48a7-84c9-84fb620606c0",
   "metadata": {},
   "outputs": [
    {
     "data": {
      "text/plain": [
       "3×3 Matrix{Float64}:\n",
       " 0.882431  0.943103   0.605134\n",
       " 0.640795  0.0451344  0.635614\n",
       " 0.690356  0.246666   0.592887"
      ]
     },
     "execution_count": 40,
     "metadata": {},
     "output_type": "execute_result"
    }
   ],
   "source": [
    "# Задаём квадратную матрицу 3x3 со случайными значениями:\n",
    "A = rand(3, 3)"
   ]
  },
  {
   "cell_type": "code",
   "execution_count": 41,
   "id": "96ed557c-c6b7-4522-a824-b238cf298ee6",
   "metadata": {},
   "outputs": [
    {
     "data": {
      "text/plain": [
       "3-element Vector{Float64}:\n",
       " 1.0\n",
       " 1.0\n",
       " 1.0"
      ]
     },
     "execution_count": 41,
     "metadata": {},
     "output_type": "execute_result"
    }
   ],
   "source": [
    "# Задаём единичный вектор:\n",
    "x = fill(1.0, 3)"
   ]
  },
  {
   "cell_type": "code",
   "execution_count": 42,
   "id": "4819e756-dfbd-4e6d-932b-4bfecbebc5c5",
   "metadata": {},
   "outputs": [
    {
     "data": {
      "text/plain": [
       "3-element Vector{Float64}:\n",
       " 2.430669297689036\n",
       " 1.3215433484125134\n",
       " 1.5299083315262747"
      ]
     },
     "execution_count": 42,
     "metadata": {},
     "output_type": "execute_result"
    }
   ],
   "source": [
    "# Задаём вектор b:\n",
    "b = A*x"
   ]
  },
  {
   "cell_type": "code",
   "execution_count": 43,
   "id": "ff1f6cbe-1f47-422c-b081-06c03044cacc",
   "metadata": {},
   "outputs": [
    {
     "data": {
      "text/plain": [
       "3-element Vector{Float64}:\n",
       " 1.0000000000000069\n",
       " 0.9999999999999984\n",
       " 0.9999999999999929"
      ]
     },
     "execution_count": 43,
     "metadata": {},
     "output_type": "execute_result"
    }
   ],
   "source": [
    "# Решение исходного уравнения получаем с помощью функции \\\n",
    "# (убеждаемся, что x - единичный вектор):\n",
    "A\\b"
   ]
  },
  {
   "cell_type": "markdown",
   "id": "b8bd04e5-d02a-4cee-8b8c-e4b27a5e8dec",
   "metadata": {},
   "source": [
    "#### Julia позволяет вычислять LU-факторизацию и определяет составной тип факторизации для его хранения:"
   ]
  },
  {
   "cell_type": "code",
   "execution_count": 44,
   "id": "ee667dc8-d6ca-4fc4-a6e2-186c4600b509",
   "metadata": {},
   "outputs": [
    {
     "data": {
      "text/plain": [
       "LU{Float64, Matrix{Float64}, Vector{Int64}}\n",
       "L factor:\n",
       "3×3 Matrix{Float64}:\n",
       " 1.0       0.0       0.0\n",
       " 0.726169  1.0       0.0\n",
       " 0.782334  0.767769  1.0\n",
       "U factor:\n",
       "3×3 Matrix{Float64}:\n",
       " 0.882431   0.943103   0.605134\n",
       " 0.0       -0.639719   0.196184\n",
       " 0.0        0.0       -0.0311543"
      ]
     },
     "execution_count": 44,
     "metadata": {},
     "output_type": "execute_result"
    }
   ],
   "source": [
    "# LU-факторизация:\n",
    "Alu = lu(A)"
   ]
  },
  {
   "cell_type": "code",
   "execution_count": 45,
   "id": "e93779b5-8d80-40a9-95ac-af9357a3beb8",
   "metadata": {},
   "outputs": [
    {
     "data": {
      "text/plain": [
       "3×3 Matrix{Float64}:\n",
       " 1.0  0.0  0.0\n",
       " 0.0  1.0  0.0\n",
       " 0.0  0.0  1.0"
      ]
     },
     "execution_count": 45,
     "metadata": {},
     "output_type": "execute_result"
    }
   ],
   "source": [
    "# Матрица перестановок:\n",
    "Alu.P"
   ]
  },
  {
   "cell_type": "code",
   "execution_count": 46,
   "id": "e801ae68-c0d0-49c7-97a0-3789c6151034",
   "metadata": {},
   "outputs": [
    {
     "data": {
      "text/plain": [
       "3-element Vector{Int64}:\n",
       " 1\n",
       " 2\n",
       " 3"
      ]
     },
     "execution_count": 46,
     "metadata": {},
     "output_type": "execute_result"
    }
   ],
   "source": [
    "# Вектор перестановок:\n",
    "Alu.p"
   ]
  },
  {
   "cell_type": "code",
   "execution_count": 47,
   "id": "73fde5dd-2c14-4b21-8475-3670836faf91",
   "metadata": {},
   "outputs": [
    {
     "data": {
      "text/plain": [
       "3×3 Matrix{Float64}:\n",
       " 1.0       0.0       0.0\n",
       " 0.726169  1.0       0.0\n",
       " 0.782334  0.767769  1.0"
      ]
     },
     "execution_count": 47,
     "metadata": {},
     "output_type": "execute_result"
    }
   ],
   "source": [
    "# Матрица L:\n",
    "Alu.L"
   ]
  },
  {
   "cell_type": "code",
   "execution_count": 48,
   "id": "b4fad3b2-0595-4eea-b162-85f802c32581",
   "metadata": {},
   "outputs": [
    {
     "data": {
      "text/plain": [
       "3×3 Matrix{Float64}:\n",
       " 0.882431   0.943103   0.605134\n",
       " 0.0       -0.639719   0.196184\n",
       " 0.0        0.0       -0.0311543"
      ]
     },
     "execution_count": 48,
     "metadata": {},
     "output_type": "execute_result"
    }
   ],
   "source": [
    "# Матрица U:\n",
    "Alu.U"
   ]
  },
  {
   "cell_type": "markdown",
   "id": "05c84911-0612-4f15-8dc6-2f42fdbb4720",
   "metadata": {},
   "source": [
    "#### Исходная система уравнений 𝐴𝑥 = 𝑏 может быть решена или с использованием исходной матрицы, или с использованием объекта факторизации:"
   ]
  },
  {
   "cell_type": "code",
   "execution_count": 49,
   "id": "6dd5dbc2-62e9-4fc9-8165-4e502c8fa03d",
   "metadata": {},
   "outputs": [
    {
     "data": {
      "text/plain": [
       "3-element Vector{Float64}:\n",
       " 1.0000000000000069\n",
       " 0.9999999999999984\n",
       " 0.9999999999999929"
      ]
     },
     "execution_count": 49,
     "metadata": {},
     "output_type": "execute_result"
    }
   ],
   "source": [
    "# Решение СЛАУ через матрицу A:\n",
    "A\\b"
   ]
  },
  {
   "cell_type": "code",
   "execution_count": 50,
   "id": "fc0ae8e8-6832-4dda-9339-762c16b89bdb",
   "metadata": {},
   "outputs": [
    {
     "data": {
      "text/plain": [
       "3-element Vector{Float64}:\n",
       " 1.0000000000000069\n",
       " 0.9999999999999984\n",
       " 0.9999999999999929"
      ]
     },
     "execution_count": 50,
     "metadata": {},
     "output_type": "execute_result"
    }
   ],
   "source": [
    "# Решение СЛАУ через объект факторизации:\n",
    "Alu\\b"
   ]
  },
  {
   "cell_type": "code",
   "execution_count": 51,
   "id": "1dd8cf4a-f09e-4667-ba2c-1f7f7a9e8efd",
   "metadata": {},
   "outputs": [
    {
     "data": {
      "text/plain": [
       "0.017586842847094095"
      ]
     },
     "execution_count": 51,
     "metadata": {},
     "output_type": "execute_result"
    }
   ],
   "source": [
    "# Детерминант матрицы A:\n",
    "det(A)"
   ]
  },
  {
   "cell_type": "code",
   "execution_count": 52,
   "id": "55eb7dfe-624f-4144-bc37-1a7cec31e9bd",
   "metadata": {},
   "outputs": [
    {
     "data": {
      "text/plain": [
       "0.017586842847094095"
      ]
     },
     "execution_count": 52,
     "metadata": {},
     "output_type": "execute_result"
    }
   ],
   "source": [
    "# Детерминант матрицы A через объект факторизации:\n",
    "det(Alu)"
   ]
  },
  {
   "cell_type": "markdown",
   "id": "02f5cb85-10a5-4dc3-be65-1fbd56992d5f",
   "metadata": {},
   "source": [
    "#### Julia позволяет вычислять QR-факторизацию и определяет составной тип факторизации для его хранения:"
   ]
  },
  {
   "cell_type": "code",
   "execution_count": 53,
   "id": "b1f4deea-0b5d-4934-b0ff-2a1fa303ce0d",
   "metadata": {},
   "outputs": [
    {
     "data": {
      "text/plain": [
       "LinearAlgebra.QRCompactWY{Float64, Matrix{Float64}, Matrix{Float64}}\n",
       "Q factor: 3×3 LinearAlgebra.QRCompactWYQ{Float64, Matrix{Float64}, Matrix{Float64}}\n",
       "R factor:\n",
       "3×3 Matrix{Float64}:\n",
       " -1.2907  -0.79913   -1.04641\n",
       "  0.0      0.560104  -0.161714\n",
       "  0.0      0.0       -0.0243274"
      ]
     },
     "execution_count": 53,
     "metadata": {},
     "output_type": "execute_result"
    }
   ],
   "source": [
    "# QR-факторизация:\n",
    "Aqr = qr(A)"
   ]
  },
  {
   "cell_type": "code",
   "execution_count": 54,
   "id": "51748889-14eb-4323-9aa3-6f1c58fd6c61",
   "metadata": {},
   "outputs": [
    {
     "data": {
      "text/plain": [
       "3×3 LinearAlgebra.QRCompactWYQ{Float64, Matrix{Float64}, Matrix{Float64}}"
      ]
     },
     "execution_count": 54,
     "metadata": {},
     "output_type": "execute_result"
    }
   ],
   "source": [
    "# Матрица Q:\n",
    "Aqr.Q"
   ]
  },
  {
   "cell_type": "code",
   "execution_count": 55,
   "id": "909ee197-81a6-4c8a-85d5-c70abfadb488",
   "metadata": {},
   "outputs": [
    {
     "data": {
      "text/plain": [
       "3×3 Matrix{Float64}:\n",
       " -1.2907  -0.79913   -1.04641\n",
       "  0.0      0.560104  -0.161714\n",
       "  0.0      0.0       -0.0243274"
      ]
     },
     "execution_count": 55,
     "metadata": {},
     "output_type": "execute_result"
    }
   ],
   "source": [
    "# Матрица R:\n",
    "Aqr.R"
   ]
  },
  {
   "cell_type": "code",
   "execution_count": 56,
   "id": "11b33c2d-ecf4-422e-bf38-f4b51e25195a",
   "metadata": {},
   "outputs": [
    {
     "data": {
      "text/plain": [
       "3×3 Matrix{Float64}:\n",
       " 1.0          0.0          -5.55112e-17\n",
       " 1.66533e-16  1.0           0.0\n",
       " 0.0          2.22045e-16   1.0"
      ]
     },
     "execution_count": 56,
     "metadata": {},
     "output_type": "execute_result"
    }
   ],
   "source": [
    "# Проверка, что матрица Q - ортогональная:\n",
    "Aqr.Q'*Aqr.Q"
   ]
  },
  {
   "cell_type": "markdown",
   "id": "7c8c5b14-eb21-4524-be82-498b4ba8f49d",
   "metadata": {},
   "source": [
    "#### Примеры собственной декомпозиции матрицы 𝐴:"
   ]
  },
  {
   "cell_type": "code",
   "execution_count": 57,
   "id": "019736be-5419-45a8-ae14-63ef70a1e92d",
   "metadata": {},
   "outputs": [
    {
     "data": {
      "text/plain": [
       "3×3 Matrix{Float64}:\n",
       " 1.76486  1.5839     1.29549\n",
       " 1.5839   0.0902688  0.88228\n",
       " 1.29549  0.88228    1.18577"
      ]
     },
     "execution_count": 57,
     "metadata": {},
     "output_type": "execute_result"
    }
   ],
   "source": [
    "# Симметризация матрицы A:\n",
    "Asym = A + A'"
   ]
  },
  {
   "cell_type": "code",
   "execution_count": 58,
   "id": "ded066ea-d836-4501-8db4-a2e87f4ad077",
   "metadata": {},
   "outputs": [
    {
     "data": {
      "text/plain": [
       "Eigen{Float64, Float64, Matrix{Float64}, Vector{Float64}}\n",
       "values:\n",
       "3-element Vector{Float64}:\n",
       " -0.8695583384409882\n",
       "  0.21485179692981338\n",
       "  3.6956119617767946\n",
       "vectors:\n",
       "3×3 Matrix{Float64}:\n",
       "  0.491179   -0.488132  -0.721436\n",
       " -0.868753   -0.214306  -0.446476\n",
       "  0.0633308   0.84605   -0.529329"
      ]
     },
     "execution_count": 58,
     "metadata": {},
     "output_type": "execute_result"
    }
   ],
   "source": [
    "# Спектральное разложение симметризованной матрицы:\n",
    "AsymEig = eigen(Asym)"
   ]
  },
  {
   "cell_type": "code",
   "execution_count": 59,
   "id": "8716d45d-0f09-4f47-8e58-f28f266217c7",
   "metadata": {},
   "outputs": [
    {
     "data": {
      "text/plain": [
       "3-element Vector{Float64}:\n",
       " -0.8695583384409882\n",
       "  0.21485179692981338\n",
       "  3.6956119617767946"
      ]
     },
     "execution_count": 59,
     "metadata": {},
     "output_type": "execute_result"
    }
   ],
   "source": [
    "# Собственные значения:\n",
    "AsymEig.values"
   ]
  },
  {
   "cell_type": "code",
   "execution_count": 60,
   "id": "167d6f5c-2a76-443e-b4dd-6b30efb910f5",
   "metadata": {},
   "outputs": [
    {
     "data": {
      "text/plain": [
       "3×3 Matrix{Float64}:\n",
       "  0.491179   -0.488132  -0.721436\n",
       " -0.868753   -0.214306  -0.446476\n",
       "  0.0633308   0.84605   -0.529329"
      ]
     },
     "execution_count": 60,
     "metadata": {},
     "output_type": "execute_result"
    }
   ],
   "source": [
    "#Собственные векторы:\n",
    "AsymEig.vectors"
   ]
  },
  {
   "cell_type": "code",
   "execution_count": 61,
   "id": "2ba5e6c6-d26e-412c-9f02-e1b605e55d72",
   "metadata": {},
   "outputs": [
    {
     "data": {
      "text/plain": [
       "3×3 Matrix{Float64}:\n",
       "  1.0          -1.9984e-15   -3.10862e-15\n",
       " -9.99201e-16   1.0          -1.55431e-15\n",
       "  4.44089e-15   3.10862e-15   1.0"
      ]
     },
     "execution_count": 61,
     "metadata": {},
     "output_type": "execute_result"
    }
   ],
   "source": [
    "# Проверяем, что получится единичная матрица:\n",
    "inv(AsymEig)*Asym"
   ]
  },
  {
   "cell_type": "markdown",
   "id": "92ab8b25-56f8-4675-90d3-22035afc8ef1",
   "metadata": {},
   "source": [
    "#### Далее рассмотрим примеры работы с матрицами большой размерности и специальной структуры:"
   ]
  },
  {
   "cell_type": "code",
   "execution_count": 62,
   "id": "0c92aa34-182e-4c99-9582-8effb2b9d11a",
   "metadata": {},
   "outputs": [
    {
     "data": {
      "text/plain": [
       "1000×1000 Matrix{Float64}:\n",
       "  0.189086    -1.53028     0.486299   …   0.758935   -1.11152    -1.37552\n",
       " -0.61427      0.649888   -0.172458       1.68446     0.8061     -1.04439\n",
       "  0.845243     1.60924    -0.337591      -0.323535   -0.338181   -0.0884662\n",
       "  0.252898     0.162762    1.86293        0.50689    -1.07474     1.01221\n",
       " -0.4357      -0.433722    0.0688926      0.32438     1.3684      0.882943\n",
       " -1.27788      3.0514     -1.37049    …  -1.91543     0.137764    0.659376\n",
       "  0.617412     0.858475    1.93548        0.731247    0.985046    1.90142\n",
       "  0.809633     0.0857344  -1.23836       -0.119184    0.276476   -0.605794\n",
       " -2.35817     -1.53724     0.324926       0.0551818  -1.11042    -0.51897\n",
       "  0.169373    -1.37595     0.121443      -0.897302    0.111827    1.53789\n",
       " -0.268557    -1.9483      0.703303   …   0.844949   -0.105929   -0.973703\n",
       " -3.14989     -0.4618      1.08879       -1.73328    -0.0458121   0.732366\n",
       "  1.05188      1.43149     1.16767       -0.430053   -1.23154    -1.30803\n",
       "  ⋮                                   ⋱                          \n",
       "  1.85675     -0.692866    1.04126       -0.296344   -1.00001     0.214219\n",
       " -1.97448      1.2969      0.822812       1.17699    -1.12317     0.702147\n",
       " -1.12883     -0.170724   -1.36066    …   0.855854    0.410456    1.17483\n",
       " -0.0146883    0.366683    0.253385       0.805336    1.68599    -0.0144126\n",
       " -0.481541    -1.37168    -1.85985        1.36922    -0.769374    0.431689\n",
       " -0.00427183  -1.00815     0.547827       0.548881   -0.158676   -1.459\n",
       "  0.00476204  -1.34654    -0.583644      -1.21564    -1.00342    -1.09884\n",
       " -0.958769     1.04103     0.743432   …  -1.23923     0.52895     0.036475\n",
       " -0.378971     0.674633   -0.542285      -1.10648    -0.242543    0.36251\n",
       " -0.234844     0.382717   -0.0809377     -0.909557   -0.434977    0.258415\n",
       "  0.20623     -0.773274    0.971406       2.22529     0.714398   -0.825674\n",
       "  0.145106     1.97052     1.15124       -0.568779   -1.11365     1.33837"
      ]
     },
     "execution_count": 62,
     "metadata": {},
     "output_type": "execute_result"
    }
   ],
   "source": [
    "# Матрица 1000 х 1000:\n",
    "n = 1000\n",
    "A = randn(n,n)"
   ]
  },
  {
   "cell_type": "code",
   "execution_count": 63,
   "id": "de52c7ee-7e78-4e9e-bb7e-965c44049c44",
   "metadata": {},
   "outputs": [
    {
     "data": {
      "text/plain": [
       "1000×1000 Matrix{Float64}:\n",
       "  0.378171   -2.14455     1.33154     …   0.524091   -0.905286   -1.23041\n",
       " -2.14455     1.29978     1.43678         2.06718     0.0328261   0.92613\n",
       "  1.33154     1.43678    -0.675183       -0.404472    0.633225    1.06277\n",
       "  1.03899    -0.316458    1.37217        -0.931503   -1.68343    -0.222548\n",
       " -0.797724    0.288688   -0.00214946      0.609433    2.01135     0.372868\n",
       " -2.44661     1.72085     0.105528    …  -2.37402     0.247145    1.3086\n",
       " -0.608267   -0.0960106   2.9525         -0.70481     0.245804    2.73805\n",
       "  2.1318     -1.00553    -2.30285         0.978318   -0.347693   -1.17926\n",
       " -1.81651    -2.6546     -1.11806         0.585098   -0.469279    0.184027\n",
       "  3.31587    -0.652932   -0.179783       -0.167379   -0.513926    0.147241\n",
       "  0.651795   -2.31253     2.20225     …  -0.661855   -2.516       0.863578\n",
       " -3.80064    -0.106805    0.760797       -1.48799     0.210751    1.2835\n",
       "  1.1911      1.73589     1.11657         0.779074   -0.269166   -1.24056\n",
       "  ⋮                                   ⋱                          \n",
       " -0.432956   -0.99338     1.22839         1.01865    -1.89691    -0.172508\n",
       " -2.70779    -0.13743     1.24084         0.637531   -1.12259     1.66219\n",
       " -2.89039     0.447319   -0.982212    …  -0.537538    0.140869    1.45391\n",
       " -0.406158    1.4372     -0.212816        2.51235     1.62976     0.579377\n",
       " -0.820229   -0.0172196  -1.17387         2.54116    -1.03185     0.969346\n",
       "  0.364596    1.69348     0.268008        0.661939   -1.9942     -2.66392\n",
       "  1.19641    -0.911753    0.176437       -0.533748   -2.92098    -0.707762\n",
       "  0.217823   -1.22359     0.666128    …   0.0614431  -0.618577   -1.63402\n",
       "  0.0385428  -0.150121   -0.37511        -0.975737    1.05767     0.0268845\n",
       "  0.524091    2.06718    -0.404472       -1.81911     1.79032    -0.310364\n",
       " -0.905286    0.0328261   0.633225        1.79032     1.4288     -1.93932\n",
       " -1.23041     0.92613     1.06277        -0.310364   -1.93932     2.67675"
      ]
     },
     "execution_count": 63,
     "metadata": {},
     "output_type": "execute_result"
    }
   ],
   "source": [
    "# Симметризация матрицы:\n",
    "Asym = A + A'"
   ]
  },
  {
   "cell_type": "code",
   "execution_count": 64,
   "id": "7778da3f-d25b-4a90-aa13-ef738a4e5c29",
   "metadata": {},
   "outputs": [
    {
     "data": {
      "text/plain": [
       "true"
      ]
     },
     "execution_count": 64,
     "metadata": {},
     "output_type": "execute_result"
    }
   ],
   "source": [
    "# Проверка, является ли матрица симметричной:\n",
    "issymmetric(Asym)"
   ]
  },
  {
   "cell_type": "markdown",
   "id": "b2ec766e-7e67-4dcf-b064-b806f8e3fbc5",
   "metadata": {},
   "source": [
    "#### Пример добавления шума в симметричную матрицу (матрица уже не будет симметричной):"
   ]
  },
  {
   "cell_type": "code",
   "execution_count": 66,
   "id": "118cc596-7d1c-4286-bf69-986412b8dc1c",
   "metadata": {},
   "outputs": [
    {
     "data": {
      "text/plain": [
       "-2.1445519133285655"
      ]
     },
     "execution_count": 66,
     "metadata": {},
     "output_type": "execute_result"
    }
   ],
   "source": [
    "# Добавление шума:\n",
    "Asym_noisy = copy(Asym)\n",
    "Asym_noisy[1,2] += 5eps()"
   ]
  },
  {
   "cell_type": "code",
   "execution_count": 67,
   "id": "124dcc86-a686-4158-a555-fd0e454625bb",
   "metadata": {},
   "outputs": [
    {
     "data": {
      "text/plain": [
       "false"
      ]
     },
     "execution_count": 67,
     "metadata": {},
     "output_type": "execute_result"
    }
   ],
   "source": [
    "# Проверка, является ли матрица симметричной:\n",
    "issymmetric(Asym_noisy)"
   ]
  },
  {
   "cell_type": "markdown",
   "id": "b825a9d5-ac96-4662-83ae-b7b666bf1711",
   "metadata": {},
   "source": [
    "#### В Julia можно объявить структуру матрица явно, например, используя Diagonal, Triangular, Symmetric, Hermitian, Tridiagonal и SymTridiagonal:"
   ]
  },
  {
   "cell_type": "code",
   "execution_count": 68,
   "id": "2279568c-0d46-4ebe-b92a-027b1d697c16",
   "metadata": {},
   "outputs": [
    {
     "data": {
      "text/plain": [
       "1000×1000 Symmetric{Float64, Matrix{Float64}}:\n",
       "  0.378171   -2.14455     1.33154     …   0.524091   -0.905286   -1.23041\n",
       " -2.14455     1.29978     1.43678         2.06718     0.0328261   0.92613\n",
       "  1.33154     1.43678    -0.675183       -0.404472    0.633225    1.06277\n",
       "  1.03899    -0.316458    1.37217        -0.931503   -1.68343    -0.222548\n",
       " -0.797724    0.288688   -0.00214946      0.609433    2.01135     0.372868\n",
       " -2.44661     1.72085     0.105528    …  -2.37402     0.247145    1.3086\n",
       " -0.608267   -0.0960106   2.9525         -0.70481     0.245804    2.73805\n",
       "  2.1318     -1.00553    -2.30285         0.978318   -0.347693   -1.17926\n",
       " -1.81651    -2.6546     -1.11806         0.585098   -0.469279    0.184027\n",
       "  3.31587    -0.652932   -0.179783       -0.167379   -0.513926    0.147241\n",
       "  0.651795   -2.31253     2.20225     …  -0.661855   -2.516       0.863578\n",
       " -3.80064    -0.106805    0.760797       -1.48799     0.210751    1.2835\n",
       "  1.1911      1.73589     1.11657         0.779074   -0.269166   -1.24056\n",
       "  ⋮                                   ⋱                          \n",
       " -0.432956   -0.99338     1.22839         1.01865    -1.89691    -0.172508\n",
       " -2.70779    -0.13743     1.24084         0.637531   -1.12259     1.66219\n",
       " -2.89039     0.447319   -0.982212    …  -0.537538    0.140869    1.45391\n",
       " -0.406158    1.4372     -0.212816        2.51235     1.62976     0.579377\n",
       " -0.820229   -0.0172196  -1.17387         2.54116    -1.03185     0.969346\n",
       "  0.364596    1.69348     0.268008        0.661939   -1.9942     -2.66392\n",
       "  1.19641    -0.911753    0.176437       -0.533748   -2.92098    -0.707762\n",
       "  0.217823   -1.22359     0.666128    …   0.0614431  -0.618577   -1.63402\n",
       "  0.0385428  -0.150121   -0.37511        -0.975737    1.05767     0.0268845\n",
       "  0.524091    2.06718    -0.404472       -1.81911     1.79032    -0.310364\n",
       " -0.905286    0.0328261   0.633225        1.79032     1.4288     -1.93932\n",
       " -1.23041     0.92613     1.06277        -0.310364   -1.93932     2.67675"
      ]
     },
     "execution_count": 68,
     "metadata": {},
     "output_type": "execute_result"
    }
   ],
   "source": [
    "# Явно указываем, что матрица является симметричной:\n",
    "Asym_explicit = Symmetric(Asym_noisy)"
   ]
  },
  {
   "cell_type": "markdown",
   "id": "e99bd53c-79e8-4516-bd9d-fb75662b7400",
   "metadata": {},
   "source": [
    "#### Далее для оценки эффективности выполнения операций над матрицами большой размерности и специальной структуры воспользуемся пакетом BenchmarkTools:"
   ]
  },
  {
   "cell_type": "code",
   "execution_count": 92,
   "id": "6497b6e9-a9d4-4159-ad47-6855561a8432",
   "metadata": {},
   "outputs": [
    {
     "name": "stdout",
     "output_type": "stream",
     "text": [
      "  76.595 ms (11 allocations: 7.99 MiB)\n"
     ]
    }
   ],
   "source": [
    "using BenchmarkTools\n",
    "# Оценка эффективности выполнения операции по нахождению\n",
    "# собственных значений симметризованной матрицы:\n",
    "@btime eigvals(Asym);"
   ]
  },
  {
   "cell_type": "code",
   "execution_count": 90,
   "id": "67d1d1dc-a965-42b0-8677-219d4e00f492",
   "metadata": {},
   "outputs": [
    {
     "name": "stdout",
     "output_type": "stream",
     "text": [
      "  632.210 ms (14 allocations: 7.93 MiB)\n"
     ]
    }
   ],
   "source": [
    "# Оценка эффективности выполнения операции по нахождению\n",
    "# собственных значений зашумлённой матрицы:\n",
    "@btime eigvals(Asym_noisy);"
   ]
  },
  {
   "cell_type": "code",
   "execution_count": 89,
   "id": "5e79a340-8b52-4881-be36-eb0f29e57955",
   "metadata": {},
   "outputs": [
    {
     "name": "stdout",
     "output_type": "stream",
     "text": [
      "  76.560 ms (11 allocations: 7.99 MiB)\n"
     ]
    }
   ],
   "source": [
    "# Оценка эффективности выполнения операции по нахождению\n",
    "# собственных значений зашумлённой матрицы,\n",
    "# для которой явно указано, что она симметричная:\n",
    "@btime eigvals(Asym_explicit);"
   ]
  },
  {
   "cell_type": "markdown",
   "id": "91d68dc1-8952-4bb0-a10d-851186ad33a8",
   "metadata": {},
   "source": [
    "#### Далее рассмотрим примеры работы с разряженными матрицами большой размерности.\n",
    "#### Использование типов Tridiagonal и SymTridiagonal для хранения трёхдиагональных матриц позволяет работать с потенциально очень большими трёхдиагональными матрицами:"
   ]
  },
  {
   "cell_type": "code",
   "execution_count": 88,
   "id": "85547754-699a-4d28-8275-091bf5a45e12",
   "metadata": {},
   "outputs": [
    {
     "data": {
      "text/plain": [
       "1000000×1000000 SymTridiagonal{Float64, Vector{Float64}}:\n",
       " -0.332691   0.419       ⋅        …    ⋅           ⋅          ⋅ \n",
       "  0.419      0.672462  -0.891012       ⋅           ⋅          ⋅ \n",
       "   ⋅        -0.891012   1.89828        ⋅           ⋅          ⋅ \n",
       "   ⋅          ⋅         1.1953         ⋅           ⋅          ⋅ \n",
       "   ⋅          ⋅          ⋅             ⋅           ⋅          ⋅ \n",
       "   ⋅          ⋅          ⋅        …    ⋅           ⋅          ⋅ \n",
       "   ⋅          ⋅          ⋅             ⋅           ⋅          ⋅ \n",
       "   ⋅          ⋅          ⋅             ⋅           ⋅          ⋅ \n",
       "   ⋅          ⋅          ⋅             ⋅           ⋅          ⋅ \n",
       "   ⋅          ⋅          ⋅             ⋅           ⋅          ⋅ \n",
       "   ⋅          ⋅          ⋅        …    ⋅           ⋅          ⋅ \n",
       "   ⋅          ⋅          ⋅             ⋅           ⋅          ⋅ \n",
       "   ⋅          ⋅          ⋅             ⋅           ⋅          ⋅ \n",
       "  ⋮                               ⋱                          \n",
       "   ⋅          ⋅          ⋅             ⋅           ⋅          ⋅ \n",
       "   ⋅          ⋅          ⋅             ⋅           ⋅          ⋅ \n",
       "   ⋅          ⋅          ⋅        …    ⋅           ⋅          ⋅ \n",
       "   ⋅          ⋅          ⋅             ⋅           ⋅          ⋅ \n",
       "   ⋅          ⋅          ⋅             ⋅           ⋅          ⋅ \n",
       "   ⋅          ⋅          ⋅             ⋅           ⋅          ⋅ \n",
       "   ⋅          ⋅          ⋅             ⋅           ⋅          ⋅ \n",
       "   ⋅          ⋅          ⋅        …    ⋅           ⋅          ⋅ \n",
       "   ⋅          ⋅          ⋅            0.892529     ⋅          ⋅ \n",
       "   ⋅          ⋅          ⋅           -1.192      -0.0353966   ⋅ \n",
       "   ⋅          ⋅          ⋅           -0.0353966  -0.971044   0.847344\n",
       "   ⋅          ⋅          ⋅             ⋅          0.847344   0.729344"
      ]
     },
     "execution_count": 88,
     "metadata": {},
     "output_type": "execute_result"
    }
   ],
   "source": [
    "# Трёхдиагональная матрица 1000000 х 1000000:\n",
    "n = 1000000;\n",
    "A = SymTridiagonal(randn(n), randn(n-1))"
   ]
  },
  {
   "cell_type": "code",
   "execution_count": 87,
   "id": "1040bd2e-0ff6-45e6-be84-5db020a0e86f",
   "metadata": {},
   "outputs": [
    {
     "name": "stdout",
     "output_type": "stream",
     "text": [
      "  484.820 ms (17 allocations: 183.11 MiB)\n"
     ]
    },
    {
     "data": {
      "text/plain": [
       "7.228144545523525"
      ]
     },
     "execution_count": 87,
     "metadata": {},
     "output_type": "execute_result"
    }
   ],
   "source": [
    "# Оценка эффективности выполнения операции по нахождению\n",
    "# собственных значений:\n",
    "@btime eigmax(A)"
   ]
  },
  {
   "cell_type": "markdown",
   "id": "2cb9d02a-6b1f-4157-92d5-826ddc542f0c",
   "metadata": {},
   "source": [
    "### 6. Общая линейная алгебра"
   ]
  },
  {
   "cell_type": "code",
   "execution_count": 81,
   "id": "31e0e377-5ca7-4429-9579-369a5e3fb69e",
   "metadata": {},
   "outputs": [
    {
     "data": {
      "text/plain": [
       "3×3 Matrix{Rational{BigInt}}:\n",
       " 3//5   7//10  7//10\n",
       " 7//10  9//10   1\n",
       " 2//5   7//10  3//10"
      ]
     },
     "execution_count": 81,
     "metadata": {},
     "output_type": "execute_result"
    }
   ],
   "source": [
    "# Матрица с рациональными элементами:\n",
    "Arational = Matrix{Rational{BigInt}}(rand(1:10, 3, 3))/10"
   ]
  },
  {
   "cell_type": "code",
   "execution_count": 83,
   "id": "4a90581c-511e-4483-8740-0376099246c0",
   "metadata": {},
   "outputs": [
    {
     "data": {
      "text/plain": [
       "3-element Vector{Int64}:\n",
       " 1\n",
       " 1\n",
       " 1"
      ]
     },
     "execution_count": 83,
     "metadata": {},
     "output_type": "execute_result"
    }
   ],
   "source": [
    "# Единичный вектор:\n",
    "x = fill(1, 3)"
   ]
  },
  {
   "cell_type": "code",
   "execution_count": 84,
   "id": "9f5a03e0-e4a8-46d2-a8a3-effaafb5a29a",
   "metadata": {},
   "outputs": [
    {
     "data": {
      "text/plain": [
       "3-element Vector{Rational{BigInt}}:\n",
       "   2\n",
       " 13//5\n",
       "  7//5"
      ]
     },
     "execution_count": 84,
     "metadata": {},
     "output_type": "execute_result"
    }
   ],
   "source": [
    "# Задаём вектор b:\n",
    "b = Arational*x"
   ]
  },
  {
   "cell_type": "code",
   "execution_count": 85,
   "id": "ce12bbf4-b92b-4591-9f2d-9fc4a579b49a",
   "metadata": {},
   "outputs": [
    {
     "data": {
      "text/plain": [
       "3-element Vector{Rational{BigInt}}:\n",
       " 1\n",
       " 1\n",
       " 1"
      ]
     },
     "execution_count": 85,
     "metadata": {},
     "output_type": "execute_result"
    }
   ],
   "source": [
    "# Решение исходного уравнения получаем с помощью функции \\\n",
    "# (убеждаемся, что x - единичный вектор):\n",
    "Arational\\b"
   ]
  },
  {
   "cell_type": "code",
   "execution_count": 86,
   "id": "549ca3f6-9ba6-4358-a4dd-1d130f3b68b2",
   "metadata": {},
   "outputs": [
    {
     "data": {
      "text/plain": [
       "LU{Rational{BigInt}, Matrix{Rational{BigInt}}, Vector{Int64}}\n",
       "L factor:\n",
       "3×3 Matrix{Rational{BigInt}}:\n",
       "  1      0     0\n",
       " 4//7    1     0\n",
       " 6//7  -5//13  1\n",
       "U factor:\n",
       "3×3 Matrix{Rational{BigInt}}:\n",
       " 7//10   9//10     1\n",
       "  0     13//70  -19//70\n",
       "  0       0     -17//65"
      ]
     },
     "execution_count": 86,
     "metadata": {},
     "output_type": "execute_result"
    }
   ],
   "source": [
    "# LU-разложение:\n",
    "lu(Arational)"
   ]
  },
  {
   "cell_type": "markdown",
   "id": "6d5e8ef0-08ba-49f0-ac03-f8613014c0a0",
   "metadata": {},
   "source": [
    "### Самостоятельное выполнение"
   ]
  },
  {
   "cell_type": "markdown",
   "id": "748063c6-850d-4f01-9d49-4f6775f3ed3f",
   "metadata": {},
   "source": [
    "#### Произведение векторов"
   ]
  },
  {
   "cell_type": "markdown",
   "id": "cde74b8e-29e0-41fe-9f33-b78449d680ae",
   "metadata": {},
   "source": [
    "##### 1) Задайте вектор v. Умножьте вектор v скалярно сам на себя и сохраните результат в dot_v:"
   ]
  },
  {
   "cell_type": "code",
   "execution_count": 102,
   "id": "8db9cd4a-261e-4253-bdbe-e0f217f2a244",
   "metadata": {},
   "outputs": [
    {
     "data": {
      "text/plain": [
       "14"
      ]
     },
     "execution_count": 102,
     "metadata": {},
     "output_type": "execute_result"
    }
   ],
   "source": [
    "# Задаем вектор v\n",
    "v = [1, 2, 3]\n",
    "\n",
    "# Скалярное произведение\n",
    "dot_v = dot(v, v)"
   ]
  },
  {
   "cell_type": "markdown",
   "id": "67630c70-41c0-4867-bd4a-550140747e2e",
   "metadata": {},
   "source": [
    "##### 2) Умножьте v матрично на себя (внешнее произведение), присвоив результат переменной outer_v:"
   ]
  },
  {
   "cell_type": "code",
   "execution_count": 94,
   "id": "b8a1b949-ea1e-4486-a3eb-0984098be5fa",
   "metadata": {},
   "outputs": [
    {
     "data": {
      "text/plain": [
       "3×3 Matrix{Int64}:\n",
       " 1  2  3\n",
       " 2  4  6\n",
       " 3  6  9"
      ]
     },
     "execution_count": 94,
     "metadata": {},
     "output_type": "execute_result"
    }
   ],
   "source": [
    "# Матричное (внешнее) произведение\n",
    "outer_v = v * v'"
   ]
  },
  {
   "cell_type": "markdown",
   "id": "a10ac096-5401-4dc5-bbf4-ac9d3e988247",
   "metadata": {},
   "source": [
    "####  Системы линейных уравнений"
   ]
  },
  {
   "cell_type": "markdown",
   "id": "1084e50d-06d0-4bd9-b6a9-6716516e21e3",
   "metadata": {},
   "source": [
    "##### 1) Решить СЛАУ с двумя неизвестными:"
   ]
  },
  {
   "cell_type": "code",
   "execution_count": 103,
   "id": "e55d526f-59e3-4713-ba96-a352bc97cdb6",
   "metadata": {},
   "outputs": [
    {
     "name": "stdout",
     "output_type": "stream",
     "text": [
      "Система a: x = [2.5, -0.5]\n",
      "Система b: Нет решения (линейно зависимая система)\n",
      "Система c: Нет решения (несовместная система)\n",
      "Система d: x = [0.4999999999999999, 0.5]\n",
      "Система e: x = [1.5000000000000004, -0.9999999999999997]\n",
      "Система f: x = [-0.9999999999999989, 2.9999999999999982]\n"
     ]
    }
   ],
   "source": [
    "# Система a\n",
    "A1 = [1 1; 1 -1]\n",
    "b1 = [2; 3]\n",
    "x1 = A1 \\ b1\n",
    "println(\"Система a: x = $x1\")\n",
    "\n",
    "# Система b\n",
    "A2 = [1 1; 2 2]\n",
    "b2 = [2; 4]\n",
    "try\n",
    "    x2 = A2 \\ b2\n",
    "    println(\"Система b: x = $x2\")\n",
    "catch e\n",
    "    println(\"Система b: Нет решения (линейно зависимая система)\")\n",
    "end\n",
    "\n",
    "# Система c\n",
    "A3 = [1 1; 2 2]\n",
    "b3 = [2; 5]\n",
    "try\n",
    "    x3 = A3 \\ b3\n",
    "    println(\"Система c: x = $x3\")\n",
    "catch e\n",
    "    println(\"Система c: Нет решения (несовместная система)\")\n",
    "end\n",
    "\n",
    "# Система d\n",
    "A4 = [1 1; 2 2; 3 3]\n",
    "b4 = [1; 2; 3]\n",
    "try\n",
    "    x4 = A4 \\ b4\n",
    "    println(\"Система d: x = $x4\")\n",
    "catch e\n",
    "    println(\"Система d: Нет решения (линейно зависимая система)\")\n",
    "end\n",
    "\n",
    "# Система e\n",
    "A5 = [1 1; 2 1; 1 -1]\n",
    "b5 = [2; 1; 3]\n",
    "try\n",
    "    x5 = A5 \\ b5\n",
    "    println(\"Система e: x = $x5\")\n",
    "catch e\n",
    "    println(\"Система e: Нет решения (несовместная система)\")\n",
    "end\n",
    "\n",
    "# Система f\n",
    "A6 = [1 1; 2 1; 3 2]\n",
    "b6 = [2; 1; 3]\n",
    "try\n",
    "    x6 = A6 \\ b6\n",
    "    println(\"Система f: x = $x6\")\n",
    "catch e\n",
    "    println(\"Система f: Нет решения (сингулярная матрица или неопределённое решение)\")\n",
    "end"
   ]
  },
  {
   "cell_type": "markdown",
   "id": "5f86015f-c226-4d6f-919f-0c3eeaac4d45",
   "metadata": {},
   "source": [
    "##### 2) Решить СЛАУ с тремя неизвестными:"
   ]
  },
  {
   "cell_type": "code",
   "execution_count": 101,
   "id": "0044e5a6-8794-4d4a-bcb1-4782c416e660",
   "metadata": {},
   "outputs": [
    {
     "name": "stdout",
     "output_type": "stream",
     "text": [
      "Система a: x = [2.2142857142857144, 0.35714285714285704, -0.5714285714285712]\n",
      "Система b: x = [-0.5, 2.5, 0.0]\n",
      "Система c: Нет решения (сингулярная матрица или неопределённое решение)\n",
      "Система d: Нет решения (сингулярная матрица или неопределённое решение)\n"
     ]
    }
   ],
   "source": [
    "# Система a\n",
    "A1 = [1 1 1; 1 -1 -2]\n",
    "b1 = [2; 3]\n",
    "try\n",
    "    x1 = A1 \\ b1\n",
    "    println(\"Система a: x = $x1\")\n",
    "catch e\n",
    "    println(\"Система a: Нет решения (недостаточно уравнений для определения решения)\")\n",
    "end\n",
    "\n",
    "# Система b\n",
    "A2 = [1 1 1; 2 2 -3; 3 1 1]\n",
    "b2 = [2; 4; 1]\n",
    "try\n",
    "    x2 = A2 \\ b2\n",
    "    println(\"Система b: x = $x2\")\n",
    "catch e\n",
    "    println(\"Система b: Нет решения\")\n",
    "end\n",
    "\n",
    "# Система c\n",
    "A3 = [1 1 1; 1 1 2; 2 2 3]\n",
    "b3 = [1; 0; 1]\n",
    "try\n",
    "    x3 = A3 \\ b3\n",
    "    println(\"Система c: x = $x3\")\n",
    "catch e\n",
    "    println(\"Система c: Нет решения (сингулярная матрица или неопределённое решение)\")\n",
    "end\n",
    "\n",
    "# Система d\n",
    "A4 = [1 1 1; 1 1 2; 2 2 3]\n",
    "b4 = [1; 0; 0]\n",
    "try\n",
    "    x4 = A4 \\ b4\n",
    "    println(\"Система d: x = $x4\")\n",
    "catch e\n",
    "    println(\"Система d: Нет решения (сингулярная матрица или неопределённое решение)\")\n",
    "end"
   ]
  },
  {
   "cell_type": "markdown",
   "id": "bc0db251-0621-44cf-850a-e169f9fa22c2",
   "metadata": {},
   "source": [
    "#### Операции с матрицами"
   ]
  },
  {
   "cell_type": "markdown",
   "id": "eb53b867-e50b-4e35-9adb-39a6e0a96c2e",
   "metadata": {},
   "source": [
    "##### 1) Приведите приведённые ниже матрицы к диагональному виду:"
   ]
  },
  {
   "cell_type": "code",
   "execution_count": 100,
   "id": "76f70017-6462-4978-b369-263462e05242",
   "metadata": {},
   "outputs": [
    {
     "data": {
      "text/plain": [
       "2×2 Diagonal{Float64, Vector{Float64}}:\n",
       " -1.0   ⋅ \n",
       "   ⋅   3.0"
      ]
     },
     "execution_count": 100,
     "metadata": {},
     "output_type": "execute_result"
    }
   ],
   "source": [
    "# a)\n",
    "\n",
    "A = [1 -2; -2 1]\n",
    "\n",
    "eigen_A = eigen(A) # Собственные значения и векторы\n",
    "diag_matrix = Diagonal(eigen_A.values) # Диагональная матрица"
   ]
  },
  {
   "cell_type": "code",
   "execution_count": 98,
   "id": "be7eb7f4-0a5a-4c7f-b040-0a118c2529d3",
   "metadata": {},
   "outputs": [
    {
     "data": {
      "text/plain": [
       "2×2 Diagonal{Float64, Vector{Float64}}:\n",
       " -0.236068   ⋅ \n",
       "   ⋅        4.23607"
      ]
     },
     "execution_count": 98,
     "metadata": {},
     "output_type": "execute_result"
    }
   ],
   "source": [
    "# b)\n",
    "\n",
    "B = [1 -2; -2 3]\n",
    "\n",
    "eigen_B = eigen(B) # Собственные значения и векторы\n",
    "diag_matrix = Diagonal(eigen_B.values) # Диагональная матрица"
   ]
  },
  {
   "cell_type": "code",
   "execution_count": 99,
   "id": "2114717e-fff4-43a1-9516-cb64b5372814",
   "metadata": {},
   "outputs": [
    {
     "data": {
      "text/plain": [
       "3×3 Diagonal{Float64, Vector{Float64}}:\n",
       " -2.14134   ⋅         ⋅ \n",
       "   ⋅       0.515138   ⋅ \n",
       "   ⋅        ⋅        3.6262"
      ]
     },
     "execution_count": 99,
     "metadata": {},
     "output_type": "execute_result"
    }
   ],
   "source": [
    "# c)\n",
    "\n",
    "C = [1 -2 0; -2 1 2; 0 2 0]\n",
    "\n",
    "eigen_C = eigen(C) # Собственные значения и векторы\n",
    "diag_matrix = Diagonal(eigen_C.values) # Диагональная матрица"
   ]
  },
  {
   "cell_type": "markdown",
   "id": "e5fb4540-5c81-45ba-b0d5-6bb94efda571",
   "metadata": {},
   "source": [
    "##### 2) Вычислите:"
   ]
  },
  {
   "cell_type": "code",
   "execution_count": 109,
   "id": "0141bee9-17aa-469b-957c-3962df9e6393",
   "metadata": {},
   "outputs": [
    {
     "name": "stdout",
     "output_type": "stream",
     "text": [
      "Матрица A^10:\n",
      "[29525.0 -29524.0; -29524.0 29525.0]\n"
     ]
    }
   ],
   "source": [
    "# Исходная матрица (a)\n",
    "A = [1 -2; \n",
    "     -2 1]\n",
    "\n",
    "# Собственные значения и векторы\n",
    "eigen_decomp = eigen(A)\n",
    "P = eigen_decomp.vectors  # Матрица собственных векторов\n",
    "D = Diagonal(eigen_decomp.values)  # Диагональная матрица собственных значений\n",
    "\n",
    "# Возводим диагональную матрицу в 10-ю степень\n",
    "D_10 = D.^10\n",
    "\n",
    "# Вычисляем A^10\n",
    "A_10 = P * D_10 * inv(P)\n",
    "\n",
    "println(\"Матрица A^10:\")\n",
    "println(A_10)"
   ]
  },
  {
   "cell_type": "code",
   "execution_count": 108,
   "id": "a0b25954-e867-4bf6-9955-b0b399102d03",
   "metadata": {},
   "outputs": [
    {
     "name": "stdout",
     "output_type": "stream",
     "text": [
      "Исходная матрица A:\n",
      "[5 -2; -2 5]\n",
      "\n",
      "Квадратный корень матрицы sqrt(A):\n",
      "[2.188901059316734 -0.45685025174785676; -0.45685025174785676 2.188901059316734]\n",
      "\n",
      "Проверка: sqrt(A)^2:\n",
      "[5.000000000000002 -2.000000000000001; -2.000000000000001 5.000000000000002]\n"
     ]
    }
   ],
   "source": [
    "# Исходная матрица (b)\n",
    "A = [5 -2;\n",
    "     -2 5]\n",
    "\n",
    "# Собственные значения и векторы\n",
    "eigen_decomp = eigen(A)\n",
    "eigenvalues = eigen_decomp.values\n",
    "eigenvectors = eigen_decomp.vectors\n",
    "\n",
    "# Проверяем, что собственные значения неотрицательные\n",
    "if all(eigenvalues .>= 0)\n",
    "    # Диагональная матрица с квадратными корнями собственных значений\n",
    "    sqrt_D = Diagonal(sqrt.(eigenvalues))\n",
    "\n",
    "    # Квадратный корень матрицы\n",
    "    sqrt_A = eigenvectors * sqrt_D * inv(eigenvectors)\n",
    "\n",
    "    println(\"Исходная матрица A:\")\n",
    "    println(A)\n",
    "\n",
    "    println(\"\\nКвадратный корень матрицы sqrt(A):\")\n",
    "    println(sqrt_A)\n",
    "\n",
    "    # Проверка, что sqrt(A)^2 = A\n",
    "    println(\"\\nПроверка: sqrt(A)^2:\")\n",
    "    println(sqrt_A * sqrt_A)\n",
    "else\n",
    "    println(\"Матрица A имеет отрицательные собственные значения, квадратный корень не определён.\")\n",
    "end"
   ]
  },
  {
   "cell_type": "code",
   "execution_count": 107,
   "id": "96912434-08dc-4990-8abe-07580171e9d4",
   "metadata": {},
   "outputs": [
    {
     "name": "stdout",
     "output_type": "stream",
     "text": [
      "Исходная матрица A:\n",
      "[1 -2; -2 1]\n",
      "\n",
      "Кубический корень матрицы 3√(A):\n",
      "ComplexF64[0.971124785153704 + 0.4330127018922193im -0.47112478515370404 + 0.4330127018922193im; -0.47112478515370404 + 0.4330127018922193im 0.971124785153704 + 0.4330127018922193im]\n",
      "\n",
      "Проверка: (3√(A))^3:\n",
      "ComplexF64[0.9999999999999991 + 0.0im -1.9999999999999991 + 5.551115123125783e-17im; -1.9999999999999991 + 5.551115123125783e-17im 0.9999999999999991 + 0.0im]\n"
     ]
    }
   ],
   "source": [
    "# Исходная матрица (c)\n",
    "A = [1 -2;\n",
    "     -2 1]\n",
    "\n",
    "# Собственные значения и векторы\n",
    "eigen_decomp = eigen(A)\n",
    "eigenvalues = eigen_decomp.values\n",
    "eigenvectors = eigen_decomp.vectors\n",
    "\n",
    "# Преобразуем собственные значения в комплексные для вычисления кубического корня\n",
    "complex_eigenvalues = Complex.(eigenvalues)\n",
    "cube_root_D = Diagonal(complex_eigenvalues .^ (1/3))\n",
    "\n",
    "# Кубический корень матрицы\n",
    "cube_root_A = eigenvectors * cube_root_D * inv(eigenvectors)\n",
    "\n",
    "println(\"Исходная матрица A:\")\n",
    "println(A)\n",
    "\n",
    "println(\"\\nКубический корень матрицы 3√(A):\")\n",
    "println(cube_root_A)\n",
    "\n",
    "# Проверка: (3√(A))^3 = A\n",
    "println(\"\\nПроверка: (3√(A))^3:\")\n",
    "println(cube_root_A * cube_root_A * cube_root_A)"
   ]
  },
  {
   "cell_type": "markdown",
   "id": "0fbc72f2-4b2b-4f9b-bf44-e6983cc1f71a",
   "metadata": {},
   "source": [
    "##### 3) Найдите собственные значения матрицы 𝐴. Создайте диагональную матрицу из собственных значений матрицы 𝐴. Создайте нижнедиагональную матрицу из матрицы 𝐴. Оцените эффективность выполняемых операций:"
   ]
  },
  {
   "cell_type": "code",
   "execution_count": 110,
   "id": "20ba9868-4a49-4b6a-81ab-58663dd87e1b",
   "metadata": {},
   "outputs": [
    {
     "name": "stdout",
     "output_type": "stream",
     "text": [
      "  5.433 μs (11 allocations: 3.00 KiB)\n",
      "Собственные значения матрицы A:\n",
      "[-1.0, 3.0]\n",
      "\n",
      "Диагональная матрица из собственных значений:\n",
      "[-1.0 0.0; 0.0 3.0]\n",
      "\n",
      "Нижнедиагональная матрица из A:\n",
      "[140 0 0 0 0; 97 106 0 0 0; 74 89 152 0 0; 168 131 144 54 0; 131 36 71 142 36]\n",
      "\n",
      "Эффективность выполнения операций:\n",
      "  5.383 μs (11 allocations: 3.00 KiB)\n",
      "  193.239 ns (1 allocation: 16 bytes)\n",
      "  177.997 ns (1 allocation: 16 bytes)\n"
     ]
    },
    {
     "data": {
      "text/plain": [
       "5×5 LowerTriangular{Int64, Matrix{Int64}}:\n",
       " 140    ⋅    ⋅    ⋅   ⋅\n",
       "  97  106    ⋅    ⋅   ⋅\n",
       "  74   89  152    ⋅   ⋅\n",
       " 168  131  144   54   ⋅\n",
       " 131   36   71  142  36"
      ]
     },
     "execution_count": 110,
     "metadata": {},
     "output_type": "execute_result"
    }
   ],
   "source": [
    "# Исходная матрица A\n",
    "A = [\n",
    "    140  97  74 168 131;\n",
    "     97 106  89 131  36;\n",
    "     74  89 152 144  71;\n",
    "    168 131 144  54 142;\n",
    "    131  36  71 142  36\n",
    "]\n",
    "\n",
    "# 1. Нахождение собственных значений и векторов\n",
    "@btime eigen_decomp = eigen(A)\n",
    "eigenvalues = eigen_decomp.values\n",
    "eigenvectors = eigen_decomp.vectors\n",
    "\n",
    "println(\"Собственные значения матрицы A:\")\n",
    "println(eigenvalues)\n",
    "\n",
    "# 2. Создание диагональной матрицы из собственных значений\n",
    "# Прямое создание переменной и вывод без использования @btime\n",
    "diag_matrix = Diagonal(eigenvalues)\n",
    "\n",
    "println(\"\\nДиагональная матрица из собственных значений:\")\n",
    "println(Matrix(diag_matrix))  # Преобразуем в стандартный массив для вывода\n",
    "\n",
    "# 3. Создание нижнедиагональной матрицы из A\n",
    "lower_triangular = LowerTriangular(A)\n",
    "\n",
    "println(\"\\nНижнедиагональная матрица из A:\")\n",
    "println(Matrix(lower_triangular))\n",
    "\n",
    "# 4. Оценка эффективности\n",
    "println(\"\\nЭффективность выполнения операций:\")\n",
    "@btime eigen(A)\n",
    "@btime Diagonal(eigenvalues)\n",
    "@btime LowerTriangular(A)"
   ]
  },
  {
   "cell_type": "markdown",
   "id": "d2181e17-2cb5-4bbb-8c9c-67260c7a5a10",
   "metadata": {},
   "source": [
    "#### Линейные модели экономики"
   ]
  },
  {
   "cell_type": "markdown",
   "id": "165734f1-77e0-4d47-afcf-72c44c64c1a5",
   "metadata": {},
   "source": [
    "##### 1) Матрица 𝐴 называется продуктивной, если решение 𝑥 системы при любой неотрицательной правой части 𝑦 имеет только неотрицательные элементы 𝑥𝑖. Используя этоопределение, проверьте, являются ли матрицы продуктивными;\n",
    "\n",
    "##### 2) Критерий продуктивности: матрица 𝐴 является продуктивной тогда и только тогда, когда все элементы матрица(𝐸 − 𝐴)^(−1) являются неотрицательными числами. Используя этот критерий, проверьте, являютсяли матрицы продуктивными;\n",
    "\n",
    "##### 3) Спектральный критерий продуктивности: матрица 𝐴 является продуктивной тогдаи только тогда, когда все её собственные значения по модулю меньше 1. Используяэтот критерий, проверьте, являются ли матрицы продуктивными;"
   ]
  },
  {
   "cell_type": "code",
   "execution_count": 112,
   "id": "cda70821-587d-40f3-ad87-25a45479e1c9",
   "metadata": {},
   "outputs": [
    {
     "name": "stdout",
     "output_type": "stream",
     "text": [
      "Matrix A1:\n",
      "[1.0 2.0; 3.0 4.0]\n",
      "Via (E - A)^(-1): false\n",
      "Via spectrum: false\n",
      "------------------------------\n",
      "Matrix A2:\n",
      "[0.5 1.0; 1.5 2.0]\n",
      "Via (E - A)^(-1): false\n",
      "Via spectrum: false\n",
      "------------------------------\n",
      "Matrix A3:\n",
      "[0.1 0.2; 0.30000000000000004 0.4]\n",
      "Via (E - A)^(-1): true\n",
      "Via spectrum: true\n",
      "------------------------------\n",
      "Matrix A4:\n",
      "[0.1 0.2 0.3; 0.0 0.1 0.2; 0.0 0.1 0.3]\n",
      "Via (E - A)^(-1): true\n",
      "Via spectrum: true\n",
      "------------------------------\n"
     ]
    }
   ],
   "source": [
    "# Матрицы\n",
    "A1 = [1 2; 3 4]\n",
    "A2 = (1/2) * A1\n",
    "A3 = (1/10) * A1\n",
    "A4 = [0.1 0.2 0.3; 0 0.1 0.2; 0 0.1 0.3]\n",
    "\n",
    "# Функция проверки через (E - A)^(-1)\n",
    "function check_productivity_via_inverse(A)\n",
    "    E = I(size(A, 1))\n",
    "    B = E - A\n",
    "    try\n",
    "        B_inv = inv(B)\n",
    "        all(B_inv .>= 0)\n",
    "    catch\n",
    "        false\n",
    "    end\n",
    "end\n",
    "\n",
    "# Функция проверки спектрального критерия\n",
    "function check_productivity_via_spectrum(A)\n",
    "    eigenvalues = eigvals(A)\n",
    "    all(abs.(eigenvalues) .< 1)\n",
    "end\n",
    "\n",
    "# Проверка продуктивности для всех матриц\n",
    "matrices = [A1, A2, A3, A4]\n",
    "for (i, A) in enumerate(matrices)\n",
    "    println(\"Matrix A$i:\")\n",
    "    println(A)\n",
    "    println(\"Via (E - A)^(-1): \", check_productivity_via_inverse(A))\n",
    "    println(\"Via spectrum: \", check_productivity_via_spectrum(A))\n",
    "    println(\"-\"^30)\n",
    "end"
   ]
  },
  {
   "cell_type": "code",
   "execution_count": null,
   "id": "a11b34e6-ac6a-4e33-ae45-08071ce298eb",
   "metadata": {},
   "outputs": [],
   "source": []
  }
 ],
 "metadata": {
  "kernelspec": {
   "display_name": "Julia 1.10.5",
   "language": "julia",
   "name": "julia-1.10"
  },
  "language_info": {
   "file_extension": ".jl",
   "mimetype": "application/julia",
   "name": "julia",
   "version": "1.10.5"
  }
 },
 "nbformat": 4,
 "nbformat_minor": 5
}
